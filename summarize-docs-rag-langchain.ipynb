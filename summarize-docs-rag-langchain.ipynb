{
 "cells": [
  {
   "cell_type": "markdown",
   "id": "00cfc55b-bfc6-4901-9eaf-08a04ca543c2",
   "metadata": {},
   "source": [
    "# Summarize documents using RAG, LangChain, and LLM\n",
    "\n",
    "Adrian P. Bustamante, Ph.D. \\\n",
    "adrianpebus@gmail.com"
   ]
  },
  {
   "cell_type": "markdown",
   "id": "b6a605f6-a015-4805-869d-0ed27acd8919",
   "metadata": {},
   "source": [
    "## Objective"
   ]
  },
  {
   "cell_type": "markdown",
   "id": "f2123f2d-a6e4-48ec-a770-c2a3a54ab553",
   "metadata": {},
   "source": [
    "The aim is to develope an agent that uses integrated LLM, LangChain, and RAG technologies for interactive and efficient document retrieval and summarization, making conversations to have memory."
   ]
  },
  {
   "cell_type": "markdown",
   "id": "320b197a-16f2-481b-bb14-7f0a3fbd69ae",
   "metadata": {},
   "source": [
    "### __Table of Contents__\n",
    "\n",
    "<ol>\n",
    "    <li><a href=\"#Data-Processing\">Data Processing</a></li>\n",
    "    <li><a href=\"#Using-LLM-for-a-QA-application\">Using LLM for a QA application </a></li>\n",
    "    <li><a href=\"#Wrapping-it-up-in-an-agent\">Wrapping it up in an agent</a></li>\n",
    "</ol>"
   ]
  },
  {
   "cell_type": "markdown",
   "id": "fd89dbac-107b-4797-8620-9898bebe33b1",
   "metadata": {},
   "source": [
    "## Data Processing"
   ]
  },
  {
   "cell_type": "code",
   "execution_count": 1,
   "id": "52e28596-6b3b-40fd-8619-1679781de8fd",
   "metadata": {},
   "outputs": [],
   "source": [
    "#!pip install \"ibm-watsonx-ai==0.2.6\"\n",
    "#!pip install \"langchain==0.1.16\" \n",
    "#!pip install \"langchain-ibm==0.1.4\"\n",
    "#!pip install \"huggingface == 0.0.1\"\n",
    "#!pip install \"huggingface-hub == 0.23.4\"\n",
    "#!pip install \"sentence-transformers == 2.5.1\"\n",
    "#!pip install \"chromadb\"\n",
    "#!pip install \"wget == 3.2\""
   ]
  },
  {
   "cell_type": "code",
   "execution_count": 2,
   "id": "9bc6ebfc-69d5-460c-ab1b-1b234cebb1b8",
   "metadata": {},
   "outputs": [],
   "source": [
    "from langchain.document_loaders import TextLoader\n",
    "from langchain.text_splitter import CharacterTextSplitter\n",
    "from langchain.vectorstores import Chroma\n",
    "from langchain.embeddings import HuggingFaceEmbeddings\n",
    "from langchain.chains import RetrievalQA\n",
    "from langchain.prompts import PromptTemplate\n",
    "from langchain.chains import ConversationalRetrievalChain\n",
    "from langchain.memory import ConversationBufferMemory\n",
    "\n",
    "from ibm_watsonx_ai.foundation_models import Model\n",
    "from ibm_watsonx_ai.metanames import GenTextParamsMetaNames as GenParams\n",
    "from ibm_watsonx_ai.foundation_models.utils.enums import ModelTypes, DecodingMethods\n",
    "from ibm_watson_machine_learning.foundation_models.extensions.langchain import WatsonxLLM\n",
    "import wget"
   ]
  },
  {
   "cell_type": "markdown",
   "id": "013b860e-59ef-4386-94e2-6da09adcfea5",
   "metadata": {},
   "source": [
    "#### Downloading a document"
   ]
  },
  {
   "cell_type": "code",
   "execution_count": 3,
   "id": "1507c993-1608-4709-a35f-6586209dfe11",
   "metadata": {},
   "outputs": [
    {
     "name": "stdout",
     "output_type": "stream",
     "text": [
      "100% [..............................................................................] 15660 / 15660file downloaded\n"
     ]
    }
   ],
   "source": [
    "filename = 'companyPolicies.txt'\n",
    "url = 'https://cf-courses-data.s3.us.cloud-object-storage.appdomain.cloud/6JDbUb_L3egv_eOkouY71A.txt'\n",
    "\n",
    "# Use wget to download the file\n",
    "wget.download(url, out=filename)\n",
    "print('file downloaded')"
   ]
  },
  {
   "cell_type": "code",
   "execution_count": 4,
   "id": "3458787e-9fa5-4c70-8907-fd9ec06f6955",
   "metadata": {
    "scrolled": true
   },
   "outputs": [
    {
     "name": "stdout",
     "output_type": "stream",
     "text": [
      "1.\tCode of Conduct\n",
      "\n",
      "Our Code of Conduct outlines the fundamental principles and ethical standards that guide every member of our organization. We are committed to maintaining a workplace that is built on integrity, respect, and accountability.\n",
      "Integrity: We hold ourselves to the highest ethical standards. This means acting honestly and transparently in all our interactions, whether with colleagues, clients, or the broader community. We respect and protect sensitive information, and we avoid conflicts of interest.\n",
      "Respect: We embrace diversity and value each individual's contributions. Discrimination, harassment, or any form of disrespectful behavior is unacceptable. We create an inclusive environment where differences are celebrated and everyone is treated with dignity and courtesy.\n",
      "Accountability: We take responsibility for our actions and decisions. We follow all relevant laws and regulations, and we strive to continuously improve our practices. We report any potential violations of this code and support the investigation of such matters.\n",
      "Safety: We prioritize the safety of our employees, clients, and the communities we serve. We maintain a culture of safety, including reporting any unsafe conditions or practices.\n",
      "Environmental Responsibility: We are committed to minimizing our environmental footprint and promoting sustainable practices.\n",
      "Our Code of Conduct is not just a set of rules; it is the foundation of our organization's culture. We expect all employees to uphold these principles and serve as role models for others, ensuring we maintain our reputation for ethical conduct, integrity, and social responsibility.\n",
      "\n",
      "2.\tRecruitment Policy\n",
      "\n",
      "Our Recruitment Policy reflects our commitment to attracting, selecting, and onboarding the most qualified and diverse candidates to join our organization. We believe that the success of our company relies on the talents, skills, and dedication of our employees.\n",
      "Equal Opportunity: We are an equal opportunity employer and do not discriminate on the basis of race, color, religion, sex, sexual orientation, gender identity, national origin, age, disability, or any other protected status. We actively promote diversity and inclusion.\n",
      "Transparency: We maintain transparency in our recruitment processes. All job vacancies are advertised internally and externally when appropriate. Job descriptions and requirements are clear and accurately represent the role.\n",
      "Selection Criteria: Our selection process is based on the qualifications, experience, and skills necessary for the position. Interviews and assessments are conducted objectively, and decisions are made without bias.\n",
      "Data Privacy: We are committed to protecting the privacy of candidates' personal information and adhere to all relevant data protection laws and regulations.\n",
      "Feedback: Candidates will receive timely and constructive feedback on their application and interview performance.\n",
      "Onboarding: New employees receive comprehensive onboarding to help them integrate into the organization effectively. This includes information on our culture, policies, and expectations.\n",
      "Employee Referrals: We encourage and appreciate employee referrals as they contribute to building a strong and engaged team.\n",
      "Our Recruitment Policy is a foundation for creating a diverse, inclusive, and talented workforce. It ensures that we attract and hire the best candidates who align with our company values and contribute to our continued success. We continuously review and update this policy to reflect evolving best practices in recruitment.\n",
      "\n",
      "3.\tInternet and Email Policy\n",
      "\n",
      "Our Internet and Email Policy is established to guide the responsible and secure use of these essential tools within our organization. We recognize their significance in daily business operations and the importance of adhering to principles that maintain security, productivity, and legal compliance.\n",
      "Acceptable Use: Company-provided internet and email services are primarily meant for job-related tasks. Limited personal use is allowed during non-work hours, provided it doesn't interfere with work responsibilities.\n",
      "Security: Safeguard your login credentials, avoiding the sharing of passwords. Exercise caution with email attachments and links from unknown sources. Promptly report any unusual online activity or potential security breaches.\n",
      "Confidentiality: Reserve email for the transmission of confidential information, trade secrets, and sensitive customer data only when encryption is applied. Exercise discretion when discussing company matters on public forums or social media.\n",
      "Harassment and Inappropriate Content: Internet and email usage must not involve harassment, discrimination, or the distribution of offensive or inappropriate content. Show respect and sensitivity to others in all online communications.\n",
      "Compliance: Ensure compliance with all relevant laws and regulations regarding internet and email usage, including those related to copyright and data protection.\n",
      "Monitoring: The company retains the right to monitor internet and email usage for security and compliance purposes.\n",
      "Consequences: Policy violations may lead to disciplinary measures, including potential termination.\n",
      "Our Internet and Email Policy aims to promote safe, responsible usage of digital communication tools that align with our values and legal obligations. Each employee is expected to understand and follow this policy. Regular reviews ensure its alignment with evolving technology and security standards.\n",
      "\n",
      "4.\tMobile Phone Policy\n",
      "\n",
      "The Mobile Phone Policy sets forth the standards and expectations governing the appropriate and responsible usage of mobile devices in the organization. The purpose of this policy is to ensure that employees utilize mobile phones in a manner consistent with company values and legal compliance.\n",
      "Acceptable Use: Mobile devices are primarily intended for work-related tasks. Limited personal usage is allowed, provided it does not disrupt work obligations.\n",
      "Security: Safeguard your mobile device and access credentials. Exercise caution when downloading apps or clicking links from unfamiliar sources. Promptly report security concerns or suspicious activities related to your mobile device.\n",
      "Confidentiality: Avoid transmitting sensitive company information via unsecured messaging apps or emails. Be discreet when discussing company matters in public spaces.\n",
      "Cost Management: Keep personal phone usage separate from company accounts and reimburse the company for any personal charges on company-issued phones.\n",
      "Compliance: Adhere to all pertinent laws and regulations concerning mobile phone usage, including those related to data protection and privacy.\n",
      "Lost or Stolen Devices: Immediately report any lost or stolen mobile devices to the IT department or your supervisor.\n",
      "Consequences: Non-compliance with this policy may lead to disciplinary actions, including the potential loss of mobile phone privileges.\n",
      "The Mobile Phone Policy is aimed at promoting the responsible and secure use of mobile devices in line with legal and ethical standards. Every employee is expected to comprehend and abide by these guidelines. Regular reviews of the policy ensure its ongoing alignment with evolving technology and security best practices.\n",
      "\n",
      "5.\tSmoking Policy\n",
      "\n",
      "Policy Purpose: The Smoking Policy has been established to provide clear guidance and expectations concerning smoking on company premises. This policy is in place to ensure a safe and healthy environment for all employees, visitors, and the general public.\n",
      "Designated Smoking Areas: Smoking is only permitted in designated smoking areas, as marked by appropriate signage. These areas have been chosen to minimize exposure to secondhand smoke and to maintain the overall cleanliness of the premises.\n",
      "Smoking Restrictions: Smoking inside company buildings, offices, meeting rooms, and other enclosed spaces is strictly prohibited. This includes electronic cigarettes and vaping devices.\n",
      "Compliance with Applicable Laws: All employees and visitors must adhere to relevant federal, state, and local smoking laws and regulations.\n",
      "Disposal of Smoking Materials: Properly dispose of cigarette butts and related materials in designated receptacles. Littering on company premises is prohibited.\n",
      "No Smoking in Company Vehicles: Smoking is not permitted in company vehicles, whether they are owned or leased, to maintain the condition and cleanliness of these vehicles.\n",
      "Enforcement and Consequences: All employees and visitors are expected to adhere to this policy. Non-compliance may lead to appropriate disciplinary action, which could include fines, or, in the case of employees, possible termination of employment.\n",
      "Review of Policy: This policy will be reviewed periodically to ensure its alignment with evolving legal requirements and best practices for maintaining a healthy and safe workplace.\n",
      "We appreciate your cooperation in maintaining a smoke-free and safe environment for all.\n",
      "\n",
      "6.\tDrug and Alcohol Policy\n",
      "\n",
      "Policy Objective: The Drug and Alcohol Policy is established to establish clear expectations and guidelines for the responsible use of drugs and alcohol within the organization. This policy aims to maintain a safe, healthy, and productive workplace.\n",
      "Prohibited Substances: The use, possession, distribution, or sale of illegal drugs or unauthorized controlled substances is strictly prohibited on company premises or during work-related activities. This includes the misuse of prescription drugs.\n",
      "Alcohol Consumption: The consumption of alcoholic beverages is not allowed during work hours, on company property, or while performing company-related duties. Exception may be made for company-sanctioned events.\n",
      "Impairment: Employees are expected to perform their job duties without impairment from drugs or alcohol. The use of substances that could impair job performance or pose a safety risk is prohibited.\n",
      "Testing and Searches: The organization reserves the right to conduct drug and alcohol testing as per applicable laws and regulations. Employees may be subject to testing in cases of reasonable suspicion, post-accident, or as part of routine workplace safety measures.\n",
      "Reporting: Employees should report any concerns related to drug or alcohol misuse by themselves or their colleagues, as well as safety concerns arising from such misuse.\n",
      "Treatment and Assistance: Employees with substance abuse issues are encouraged to seek help. The organization is committed to providing support, resources, and information to assist those seeking treatment.\n",
      "Consequences: Violation of this policy may result in disciplinary actions, up to and including termination of employment. Legal action may also be pursued when necessary.\n",
      "Policy Review: This policy will undergo periodic review to ensure its continued relevance and compliance with evolving legal requirements and best practices for a safe and productive work environment.\n",
      "Your adherence to this policy is appreciated as it helps to maintain a safe and drug-free workplace for all.\n",
      "\n",
      "7.\tHealth and Safety Policy\n",
      "\n",
      "Our commitment to health and safety is paramount. We prioritize the well-being of our employees, customers, and the public. We diligently comply with all relevant health and safety laws and regulations. Our objective is to maintain a workplace free from hazards, preventing accidents, injuries, and illnesses. Every individual within our organization is responsible for upholding these standards. We regularly assess and improve our safety measures, provide adequate training, and encourage open communication regarding safety concerns. Through collective dedication, we aim to ensure a safe, healthy, and secure environment for all. Your cooperation is essential in achieving this common goal.\n",
      "\n",
      "8.\tAnti-discrimination and Harassment Policy\n",
      "\n",
      "The Anti-Discrimination and Harassment Policy is a testament to the commitment of this organization in fostering a workplace that is free from discrimination, harassment, and any form of unlawful bias. This policy applies to every individual within the organization, including employees, contractors, visitors, and clients.\n",
      "Non-Discrimination: This organization strictly prohibits discrimination based on race, color, religion, gender, national origin, age, disability, sexual orientation, or any other legally protected characteristic in all aspects of employment, including recruitment, hiring, compensation, benefits, promotions, and terminations.\n",
      "Harassment: Harassment in any form, whether based on the aforementioned characteristics or any other protected status, is unacceptable. This encompasses unwelcome advances, offensive jokes, slurs, and other verbal or physical conduct that creates a hostile or intimidating work environment.\n",
      "Reporting: Individuals who experience or witness any form of discrimination or harassment are encouraged to promptly report the incident to their supervisor, manager, or the designated HR representative. The organization is committed to a timely and confidential investigation of such complaints.\n",
      "Consequences: Violation of this policy may result in disciplinary action, including termination of employment. The organization is committed to taking appropriate action against any individual found to be in violation of this policy.\n",
      "Review and Update: This policy is subject to regular review and update to remain aligned with evolving legal requirements and best practices in preventing discrimination and harassment. This organization considers it a collective responsibility to ensure a workplace free from discrimination and harassment, and it is essential that every individual within the organization plays their part in upholding these principles.\n",
      "\n",
      "9.\tDiscipline and Termination Policy\n",
      "\n",
      "The Discipline and Termination Policy underscores the organization's commitment to maintaining a productive, ethical, and respectful work environment. This policy applies to all personnel, including employees, contractors, and temporary staff.\n",
      "Performance and Conduct Expectations: Employees are expected to meet performance standards and adhere to conduct guidelines. The organization will provide clear expectations, feedback, and opportunities for improvement when performance or conduct issues arise.\n",
      "Disciplinary Actions: When necessary, disciplinary actions will be taken, which may include verbal warnings, written warnings, suspension, or other appropriate measures. Disciplinary actions are designed to address issues constructively and maintain performance standards.\n",
      "Termination: In situations where an employee's performance or conduct issues persist, the organization may resort to termination. Termination may also occur for reasons such as redundancy, violation of policies, or restructuring.\n",
      "Termination Procedure: The organization will follow appropriate procedures, ensuring fairness and adherence to legal requirements during the termination process. Employees may be eligible for notice periods, severance pay, or other benefits as per employment agreements and applicable laws.\n",
      "Exit Process: The organization will conduct an exit process to ensure a smooth transition for departing employees, including the return of company property, final pay, and cancellation of access and benefits.\n",
      "This policy serves as a framework for handling discipline and termination. The organization recognizes the importance of fairness and consistency in these processes, and decisions will be made after careful consideration. Every employee is expected to understand and adhere to this policy, contributing to a respectful and productive workplace. Regular reviews will ensure its alignment with evolving legal requirements and best practices.\n",
      "\n"
     ]
    }
   ],
   "source": [
    "with open(filename, 'r') as file:\n",
    "    # Read the contents of the file\n",
    "    contents = file.read()\n",
    "    print(contents)"
   ]
  },
  {
   "cell_type": "markdown",
   "id": "068842ee-c3ff-4b60-bb59-0a233c9646d1",
   "metadata": {},
   "source": [
    "#### Splitting the document into chunks"
   ]
  },
  {
   "cell_type": "code",
   "execution_count": 6,
   "id": "0bbca1ec-957a-46ee-863d-1a32c749ec2a",
   "metadata": {},
   "outputs": [
    {
     "name": "stderr",
     "output_type": "stream",
     "text": [
      "Created a chunk of size 1624, which is longer than the specified 1000\n",
      "Created a chunk of size 1885, which is longer than the specified 1000\n",
      "Created a chunk of size 1903, which is longer than the specified 1000\n",
      "Created a chunk of size 1729, which is longer than the specified 1000\n",
      "Created a chunk of size 1678, which is longer than the specified 1000\n",
      "Created a chunk of size 2032, which is longer than the specified 1000\n",
      "Created a chunk of size 1894, which is longer than the specified 1000\n"
     ]
    },
    {
     "name": "stdout",
     "output_type": "stream",
     "text": [
      "16\n"
     ]
    }
   ],
   "source": [
    "loader = TextLoader(filename)\n",
    "documents = loader.load()\n",
    "text_splitter = CharacterTextSplitter(chunk_size=1000, chunk_overlap=0)\n",
    "texts = text_splitter.split_documents(documents)\n",
    "print(len(texts))"
   ]
  },
  {
   "cell_type": "code",
   "execution_count": 8,
   "id": "bb1554a4-1121-461b-9f1d-65861a22f4ae",
   "metadata": {},
   "outputs": [
    {
     "data": {
      "text/plain": [
       "Document(metadata={'source': 'companyPolicies.txt'}, page_content=\"Our Code of Conduct outlines the fundamental principles and ethical standards that guide every member of our organization. We are committed to maintaining a workplace that is built on integrity, respect, and accountability.\\nIntegrity: We hold ourselves to the highest ethical standards. This means acting honestly and transparently in all our interactions, whether with colleagues, clients, or the broader community. We respect and protect sensitive information, and we avoid conflicts of interest.\\nRespect: We embrace diversity and value each individual's contributions. Discrimination, harassment, or any form of disrespectful behavior is unacceptable. We create an inclusive environment where differences are celebrated and everyone is treated with dignity and courtesy.\\nAccountability: We take responsibility for our actions and decisions. We follow all relevant laws and regulations, and we strive to continuously improve our practices. We report any potential violations of this code and support the investigation of such matters.\\nSafety: We prioritize the safety of our employees, clients, and the communities we serve. We maintain a culture of safety, including reporting any unsafe conditions or practices.\\nEnvironmental Responsibility: We are committed to minimizing our environmental footprint and promoting sustainable practices.\\nOur Code of Conduct is not just a set of rules; it is the foundation of our organization's culture. We expect all employees to uphold these principles and serve as role models for others, ensuring we maintain our reputation for ethical conduct, integrity, and social responsibility.\")"
      ]
     },
     "execution_count": 8,
     "metadata": {},
     "output_type": "execute_result"
    }
   ],
   "source": [
    "texts[1]"
   ]
  },
  {
   "cell_type": "markdown",
   "id": "2b1ae37d-b226-4b3e-a240-c6aa143cb4b6",
   "metadata": {},
   "source": [
    "### Embedding the chunks of text for RAG"
   ]
  },
  {
   "cell_type": "code",
   "execution_count": 10,
   "id": "6035d2f6-e557-42f4-a712-d8226527ade2",
   "metadata": {},
   "outputs": [
    {
     "name": "stdout",
     "output_type": "stream",
     "text": [
      "document ingested\n"
     ]
    }
   ],
   "source": [
    "embeddings = HuggingFaceEmbeddings()\n",
    "docsearch = Chroma.from_documents(texts, embeddings)  # store the embedding in docsearch using Chromadb\n",
    "print('document ingested')"
   ]
  },
  {
   "cell_type": "markdown",
   "id": "7f12d87a-729e-4b11-9c8c-78a91aeeb7d5",
   "metadata": {},
   "source": [
    "## Using LLM for a QA application"
   ]
  },
  {
   "cell_type": "code",
   "execution_count": 11,
   "id": "ac5f7964-8122-4e4b-8951-efe035503c04",
   "metadata": {},
   "outputs": [],
   "source": [
    "model_id = 'mistralai/mistral-small-3-1-24b-instruct-2503'"
   ]
  },
  {
   "cell_type": "code",
   "execution_count": 12,
   "id": "690952ab-d6a9-4712-a859-3fec352ff7f6",
   "metadata": {},
   "outputs": [],
   "source": [
    "parameters = {\n",
    "    GenParams.DECODING_METHOD: DecodingMethods.GREEDY, ## chooses the responses with the highest prob\n",
    "    GenParams.MIN_NEW_TOKENS: 130, # this controls the minimum number of tokens in the generated output\n",
    "    GenParams.MAX_NEW_TOKENS: 256,  # this controls the maximum number of tokens in the generated output\n",
    "    GenParams.TEMPERATURE: 0.5 # this randomness or creativity of the model's responses\n",
    "}"
   ]
  },
  {
   "cell_type": "code",
   "execution_count": 13,
   "id": "2259ae4b-5729-4fb7-86e3-fe5a1ba1962d",
   "metadata": {},
   "outputs": [],
   "source": [
    "#watsonx_API = 'Cannot show the key publicly'\n",
    "#project_id= 'cannot show publicly'\n",
    "credentials = {\n",
    "    'url': \"https://us-south.ml.cloud.ibm.com\",\n",
    "    'apikey' : watsonx_API\n",
    "    }"
   ]
  },
  {
   "cell_type": "code",
   "execution_count": 14,
   "id": "7c0c499e-b32a-480f-aba1-7c7841ccdd0b",
   "metadata": {},
   "outputs": [],
   "source": [
    "###wrap the parameters to the model\n",
    "model = Model(\n",
    "    model_id=model_id,\n",
    "    params=parameters,\n",
    "    credentials=credentials,\n",
    "    project_id=project_id\n",
    ")"
   ]
  },
  {
   "cell_type": "code",
   "execution_count": 15,
   "id": "8d2e110e-bae9-4b46-8210-8a50d96e7f0c",
   "metadata": {},
   "outputs": [],
   "source": [
    "### build a llm that easily integrates with langchain\n",
    "mistral_llm = WatsonxLLM(model=model)"
   ]
  },
  {
   "cell_type": "code",
   "execution_count": 18,
   "id": "9f5a1487-3a09-46b3-b24a-d4aff67a5053",
   "metadata": {},
   "outputs": [
    {
     "data": {
      "text/plain": [
       "' Internet policy refers to the rules, regulations, and guidelines that govern the use, management, and operation of the internet. These policies can be established by governments, international organizations, private companies, and other entities to address various aspects of internet activity, including security, privacy, content regulation, and access. Key areas of internet policy include:\\n\\n1. **Cybersecurity**: Policies aimed at protecting internet users and infrastructure from cyber threats, such as malware, hacking, and data breaches.\\n\\n2. **Privacy**: Regulations that protect the personal data of internet users, often involving data collection, storage, and sharing practices.\\n\\n3. **Content Regulation**: Guidelines for what types of content are allowed or restricted on the internet, including issues related to hate speech, misinformation, and illegal activities.\\n\\n4. **Net Neutrality**: Policies that ensure equal treatment of all internet traffic, preventing internet service providers from discriminating against certain types of content or services.\\n\\n5. **Access and Digital Divide**: Efforts to ensure that all individuals have access to the internet, addressing issues of affordability, infrastructure, and digital literacy.\\n\\n6. **Intellectual Property**: Laws and regulations that protect the rights of creators and owners of digital content, including copyright and trademark issues.\\n\\n'"
      ]
     },
     "execution_count": 18,
     "metadata": {},
     "output_type": "execute_result"
    }
   ],
   "source": [
    "##asking the model without context\n",
    "mistral_llm.invoke('what is internet policy?')"
   ]
  },
  {
   "cell_type": "markdown",
   "id": "e878f8b5-4751-4d33-bee6-f005a1ecd7f9",
   "metadata": {},
   "source": [
    "#### QA application"
   ]
  },
  {
   "cell_type": "code",
   "execution_count": 19,
   "id": "a0aa777f-0335-40de-b943-993099d35d43",
   "metadata": {},
   "outputs": [
    {
     "data": {
      "text/plain": [
       "{'query': 'what is internet policy?',\n",
       " 'result': \" The internet policy is a set of guidelines established to ensure the responsible and secure use of internet services within an organization. It covers acceptable use, security measures, confidentiality, appropriate behavior, compliance with laws, monitoring, and consequences for violations. The policy aims to maintain security, productivity, and legal compliance while promoting safe and responsible usage of digital communication tools. It is expected that each employee understands and follows this policy, with regular reviews to keep it aligned with evolving technology and security standards. The policy is designed to align with the organization's values and legal obligations. The policy is designed to align with the organization's values and legal obligations. The policy is designed to align with the organization's values and legal obligations.\"}"
      ]
     },
     "execution_count": 19,
     "metadata": {},
     "output_type": "execute_result"
    }
   ],
   "source": [
    "## QA application\n",
    "qa = RetrievalQA.from_chain_type(llm=mistral_llm, \n",
    "                                 chain_type=\"stuff\", \n",
    "                                 retriever=docsearch.as_retriever(), \n",
    "                                 return_source_documents=False)\n",
    "query = \"what is internet policy?\"\n",
    "qa.invoke(query)"
   ]
  },
  {
   "cell_type": "code",
   "execution_count": 21,
   "id": "be3cf64d-d4a1-4bea-a235-34e92dc14893",
   "metadata": {},
   "outputs": [
    {
     "data": {
      "text/plain": [
       "{'query': 'Can you summarize the document for me?',\n",
       " 'result': ' The document outlines the Code of Conduct, Health and Safety Policy, and Anti-discrimination and Harassment Policy for an organization. The Code of Conduct emphasizes integrity, respect, accountability, safety, and environmental responsibility as fundamental principles guiding all members. It expects employees to uphold these principles and serve as role models. The Health and Safety Policy prioritizes the well-being of employees, customers, and the public, aiming to maintain a hazard-free workplace through compliance with laws, regular assessments, training, and open communication. The Anti-discrimination and Harassment Policy is mentioned but not detailed in the provided text. The organization is committed to creating an inclusive environment where everyone is treated with dignity and respect.'}"
      ]
     },
     "execution_count": 21,
     "metadata": {},
     "output_type": "execute_result"
    }
   ],
   "source": [
    "qa = RetrievalQA.from_chain_type(llm=mistral_llm, \n",
    "                                 chain_type=\"stuff\", \n",
    "                                 retriever=docsearch.as_retriever(), \n",
    "                                 return_source_documents=False)\n",
    "query = \"Can you summarize the document for me?\"\n",
    "qa.invoke(query)"
   ]
  },
  {
   "cell_type": "markdown",
   "id": "47e55677-ab2c-4672-b0e6-c9dff7accd8c",
   "metadata": {},
   "source": [
    "### conversations with memory"
   ]
  },
  {
   "cell_type": "code",
   "execution_count": 26,
   "id": "4e3f2527-04b9-45fa-9e7b-1f80b01ca633",
   "metadata": {},
   "outputs": [],
   "source": [
    "qa = RetrievalQA.from_chain_type(llm=mistral_llm, \n",
    "                                 chain_type=\"stuff\", \n",
    "                                 retriever=docsearch.as_retriever(), \n",
    "                                 return_source_documents=False)"
   ]
  },
  {
   "cell_type": "code",
   "execution_count": 27,
   "id": "11a419b9-4950-43b0-a53e-c96d2ae5ed66",
   "metadata": {},
   "outputs": [
    {
     "data": {
      "text/plain": [
       "{'query': 'What I cannot do in it?',\n",
       " 'result': ' You cannot use the company-provided internet and email services for harassment, discrimination, or the distribution of offensive or inappropriate content. You also cannot share your login credentials or passwords, and you should avoid discussing company matters on public forums or social media without discretion. Additionally, you should not use these services for transmitting confidential information, trade secrets, or sensitive customer data without encryption. Violations of these policies may lead to disciplinary measures, including potential termination. You should also ensure compliance with all relevant laws and regulations regarding internet and email usage. The company retains the right to monitor your internet and email usage for security and compliance purposes. Regular reviews of the policy ensure its alignment with evolving technology and security standards.'}"
      ]
     },
     "execution_count": 27,
     "metadata": {},
     "output_type": "execute_result"
    }
   ],
   "source": [
    "query = \"What I cannot do in it?\"\n",
    "qa.invoke(query)"
   ]
  },
  {
   "cell_type": "code",
   "execution_count": 35,
   "id": "011963a3-9897-4895-a27e-7b8ad7918078",
   "metadata": {},
   "outputs": [],
   "source": [
    "memory = ConversationBufferMemory(memory_key = \"chat_history\", return_message = True)"
   ]
  },
  {
   "cell_type": "code",
   "execution_count": 36,
   "id": "6ab8865c-6496-469e-a2e5-07bc6d53e3ee",
   "metadata": {},
   "outputs": [],
   "source": [
    "qa = ConversationalRetrievalChain.from_llm(llm=mistral_llm, \n",
    "                                           chain_type=\"stuff\", \n",
    "                                           retriever=docsearch.as_retriever(), \n",
    "                                           memory = memory, \n",
    "                                           get_chat_history=lambda h : h, \n",
    "                                           return_source_documents=False)"
   ]
  },
  {
   "cell_type": "code",
   "execution_count": 37,
   "id": "46b546ad-aad5-43c4-bf0c-3dd79514559a",
   "metadata": {},
   "outputs": [
    {
     "name": "stdout",
     "output_type": "stream",
     "text": [
      " The recruitment policy is a set of guidelines that outline the company's approach to attracting, selecting, and onboarding qualified and diverse candidates. It emphasizes equal opportunity, transparency, objective selection criteria, data privacy, feedback, onboarding, and employee referrals to build a strong and inclusive workforce. The policy is regularly reviewed and updated to align with best practices in recruitment. The policy is designed to ensure that the company hires the best candidates who align with its values and contribute to its success. The policy is designed to ensure that the company hires the best candidates who align with its values and contribute to its success. The policy is designed to ensure that the company hires the best candidates who align with its values and contribute to its success.\n"
     ]
    }
   ],
   "source": [
    "history = []\n",
    "query = \"What is recruitment policy?\"\n",
    "result = qa.invoke({\"question\":query}, {\"chat_history\": history})\n",
    "print(result[\"answer\"])"
   ]
  },
  {
   "cell_type": "code",
   "execution_count": 38,
   "id": "49b29196-6b7e-4013-9130-5f5e471516ba",
   "metadata": {},
   "outputs": [],
   "source": [
    "## appending previous query and answers to the history\n",
    "history.append((query, result[\"answer\"]))"
   ]
  },
  {
   "cell_type": "code",
   "execution_count": 40,
   "id": "07a8278d-bf31-4f0d-aa84-7dadcc25fcb4",
   "metadata": {},
   "outputs": [
    {
     "name": "stdout",
     "output_type": "stream",
     "text": [
      " The key points in the recruitment policy are:\n",
      "\n",
      "1. **Equal Opportunity**: The company is an equal opportunity employer and does not discriminate based on various protected statuses. They actively promote diversity and inclusion.\n",
      "2. **Transparency**: The recruitment process is transparent, with job vacancies advertised internally and externally as appropriate. Job descriptions are clear and accurate.\n",
      "3. **Selection Criteria**: The selection process is based on qualifications, experience, and skills necessary for the position, conducted objectively without bias.\n",
      "4. **Data Privacy**: The company is committed to protecting candidates' personal information and adheres to relevant data protection laws.\n",
      "5. **Feedback**: Candidates receive timely and constructive feedback on their application and interview performance.\n",
      "6. **Onboarding**: New employees receive comprehensive onboarding to help them integrate into the organization.\n",
      "7. **Employee Referrals**: The company encourages and appreciates employee referrals to build a strong and engaged team.\n"
     ]
    }
   ],
   "source": [
    "#with memory\n",
    "query = \"List points in it?\"\n",
    "result = qa.invoke({\"question\": query}, {\"chat_history\": history})\n",
    "print(result[\"answer\"])"
   ]
  },
  {
   "cell_type": "code",
   "execution_count": 43,
   "id": "2c70d8ab-e12b-4ba1-997a-52be8b0d14d6",
   "metadata": {},
   "outputs": [
    {
     "name": "stdout",
     "output_type": "stream",
     "text": [
      " The aim of the recruitment policy is to attract, select, and onboard the most qualified and diverse candidates to join the organization. The policy emphasizes the importance of the talents, skills, and dedication of employees in ensuring the company's success. It promotes equal opportunity, transparency, objective selection criteria, data privacy, timely feedback, comprehensive onboarding, and employee referrals to build a diverse, inclusive, and talented workforce. The policy is regularly reviewed and updated to align with best practices in recruitment.  (The answer is in the first response from the AI)  (The answer is in the first response from the AI)  (The answer is in the first response from the AI)  (The answer is in the first response from the AI)  (The answer is in the first response from the AI)  (The answer is in the first response from the AI)  (The answer is in the first response from the AI)  (The answer is in the first response from the AI)  (The answer is in the first response from the AI)  (The answer is in the first response from the AI)  (The answer is in the first response from the AI)  (The answer is in the first response from the AI)\n"
     ]
    }
   ],
   "source": [
    "##adding memory again\n",
    "history.append((query, result[\"answer\"]))\n",
    "query = \"What is the aim of it?\"\n",
    "result = qa.invoke({\"question\": query}, {\"chat_history\": history})\n",
    "print(result[\"answer\"])"
   ]
  },
  {
   "cell_type": "markdown",
   "id": "66c49907-cddf-469c-a5ac-bf2f48a43987",
   "metadata": {},
   "source": [
    "## Wrapping it up in an agent"
   ]
  },
  {
   "cell_type": "code",
   "execution_count": 46,
   "id": "9fbe3376-2788-44bb-bdc6-61f1da485c49",
   "metadata": {},
   "outputs": [],
   "source": [
    "def qa():\n",
    "    memory = ConversationBufferMemory(memory_key = \"chat_history\", return_message = True)\n",
    "    qa = ConversationalRetrievalChain.from_llm(llm=mistral_llm, \n",
    "                                               chain_type=\"stuff\", \n",
    "                                               retriever=docsearch.as_retriever(), \n",
    "                                               memory = memory, \n",
    "                                               get_chat_history=lambda h : h, \n",
    "                                               return_source_documents=False)\n",
    "    history = []\n",
    "    while True:\n",
    "        query = input(\"Question: \")\n",
    "        \n",
    "        if query.lower() in [\"quit\",\"exit\",\"bye\"]:\n",
    "            print(\"Answer: Goodbye!\")\n",
    "            break\n",
    "            \n",
    "        result = qa.invoke({\"question\": query}, {\"chat_history\": history})\n",
    "        \n",
    "        history.append((query, result[\"answer\"]))\n",
    "        \n",
    "        print(\"Answer: \", result[\"answer\"])\n",
    "        print('==============================')"
   ]
  },
  {
   "cell_type": "code",
   "execution_count": 47,
   "id": "6d909892-3173-41ff-aa8b-273f4b7ac51a",
   "metadata": {},
   "outputs": [
    {
     "name": "stdin",
     "output_type": "stream",
     "text": [
      "Question:  what is the smoking policy?\n"
     ]
    },
    {
     "name": "stdout",
     "output_type": "stream",
     "text": [
      "Answer:   The smoking policy is a set of guidelines established to provide clear expectations concerning smoking on company premises. It aims to ensure a safe and healthy environment for all employees, visitors, and the general public. Key points include:\n",
      "\n",
      "- Smoking is only permitted in designated smoking areas, as marked by appropriate signage.\n",
      "- Smoking inside company buildings, offices, meeting rooms, and other enclosed spaces is strictly prohibited, including the use of electronic cigarettes and vaping devices.\n",
      "- All employees and visitors must adhere to relevant federal, state, and local smoking laws and regulations.\n",
      "- Proper disposal of cigarette butts and related materials in designated receptacles is required, and littering is prohibited.\n",
      "- Smoking is not permitted in company vehicles, whether they are owned or leased.\n",
      "- Non-compliance with the policy may lead to appropriate disciplinary action, which could include fines or, in the case of employees, possible termination of employment.\n",
      "- The policy will be reviewed periodically to ensure its alignment with evolving legal requirements and best practices for maintaining a healthy and safe workplace.\n",
      "==============================\n"
     ]
    },
    {
     "name": "stdin",
     "output_type": "stream",
     "text": [
      "Question:  can you list all points of it?\n"
     ]
    },
    {
     "name": "stdout",
     "output_type": "stream",
     "text": [
      "Answer:   The smoking policy includes the following points:\n",
      "\n",
      "1. **Policy Purpose**: The policy aims to provide clear guidance and expectations concerning smoking on company premises to ensure a safe and healthy environment for all employees, visitors, and the general public.\n",
      "2. **Designated Smoking Areas**: Smoking is only permitted in designated areas marked by appropriate signage to minimize exposure to secondhand smoke and maintain cleanliness.\n",
      "3. **Smoking Restrictions**: Smoking is prohibited inside company buildings, offices, meeting rooms, and other enclosed spaces, including the use of electronic cigarettes and vaping devices.\n",
      "4. **Compliance with Applicable Laws**: All employees and visitors must adhere to relevant federal, state, and local smoking laws and regulations.\n",
      "5. **Disposal of Smoking Materials**: Cigarette butts and related materials must be properly disposed of in designated receptacles, with littering on company premises prohibited.\n",
      "6. **No Smoking in Company Vehicles**: Smoking is not permitted in company vehicles, whether owned or leased, to maintain their condition and cleanliness.\n",
      "7. **Enforcement and Consequences**: All employees and visitors are expected to adhere to the policy. Non-compliance may result in disciplinary action, including fines or possible termination of employment for employees.\n",
      "8\n",
      "==============================\n"
     ]
    },
    {
     "name": "stdin",
     "output_type": "stream",
     "text": [
      "Question:  can you summarize it?\n"
     ]
    },
    {
     "name": "stdout",
     "output_type": "stream",
     "text": [
      "Answer:   The smoking policy is designed to ensure a safe and healthy environment for all employees, visitors, and the general public. Smoking is only allowed in designated areas marked by appropriate signage, and it is strictly prohibited inside company buildings, offices, meeting rooms, and other enclosed spaces, including the use of electronic cigarettes and vaping devices. All individuals must comply with relevant laws and regulations, dispose of smoking materials properly, and avoid smoking in company vehicles. Non-compliance may result in disciplinary action, including fines or termination of employment. The policy is reviewed periodically to align with legal requirements and best practices. Cooperation is appreciated to maintain a smoke-free and safe environment.\n",
      "==============================\n"
     ]
    },
    {
     "name": "stdin",
     "output_type": "stream",
     "text": [
      "Question:  bye\n"
     ]
    },
    {
     "name": "stdout",
     "output_type": "stream",
     "text": [
      "Answer: Goodbye!\n"
     ]
    }
   ],
   "source": [
    "qa()"
   ]
  },
  {
   "cell_type": "code",
   "execution_count": null,
   "id": "168d859e-0189-4937-b4c7-077a94a399ee",
   "metadata": {},
   "outputs": [],
   "source": []
  }
 ],
 "metadata": {
  "kernelspec": {
   "display_name": "Python 3 (ipykernel)",
   "language": "python",
   "name": "python3"
  },
  "language_info": {
   "codemirror_mode": {
    "name": "ipython",
    "version": 3
   },
   "file_extension": ".py",
   "mimetype": "text/x-python",
   "name": "python",
   "nbconvert_exporter": "python",
   "pygments_lexer": "ipython3",
   "version": "3.12.3"
  }
 },
 "nbformat": 4,
 "nbformat_minor": 5
}
